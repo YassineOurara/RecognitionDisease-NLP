{
  "nbformat": 4,
  "nbformat_minor": 0,
  "metadata": {
    "colab": {
      "provenance": [],
      "include_colab_link": true
    },
    "kernelspec": {
      "name": "python3",
      "display_name": "Python 3"
    },
    "language_info": {
      "name": "python"
    }
  },
  "cells": [
    {
      "cell_type": "markdown",
      "metadata": {
        "id": "view-in-github",
        "colab_type": "text"
      },
      "source": [
        "<a href=\"https://colab.research.google.com/github/YassineOurara/illness-recognition-NLP/blob/main/Projet_YassineOurara_RecM_NLP.ipynb\" target=\"_parent\"><img src=\"https://colab.research.google.com/assets/colab-badge.svg\" alt=\"Open In Colab\"/></a>"
      ]
    },
    {
      "cell_type": "code",
      "execution_count": null,
      "metadata": {
        "colab": {
          "base_uri": "https://localhost:8080/"
        },
        "id": "RT6Xvimi4uHw",
        "outputId": "a50092a8-fdb3-4773-dc83-ea853ee876ee"
      },
      "outputs": [
        {
          "output_type": "stream",
          "name": "stderr",
          "text": [
            "[nltk_data] Downloading package wordnet to /root/nltk_data...\n",
            "[nltk_data] Downloading package punkt to /root/nltk_data...\n",
            "[nltk_data]   Unzipping tokenizers/punkt.zip.\n",
            "[nltk_data] Downloading package omw-1.4 to /root/nltk_data...\n",
            "[nltk_data] Downloading package stopwords to /root/nltk_data...\n",
            "[nltk_data]   Unzipping corpora/stopwords.zip.\n"
          ]
        },
        {
          "output_type": "stream",
          "name": "stdout",
          "text": [
            "Looking in indexes: https://pypi.org/simple, https://us-python.pkg.dev/colab-wheels/public/simple/\n",
            "Requirement already satisfied: wordcloud in /usr/local/lib/python3.10/dist-packages (1.8.2.2)\n",
            "Requirement already satisfied: pillow in /usr/local/lib/python3.10/dist-packages (from wordcloud) (8.4.0)\n",
            "Requirement already satisfied: numpy>=1.6.1 in /usr/local/lib/python3.10/dist-packages (from wordcloud) (1.22.4)\n",
            "Requirement already satisfied: matplotlib in /usr/local/lib/python3.10/dist-packages (from wordcloud) (3.7.1)\n",
            "Requirement already satisfied: python-dateutil>=2.7 in /usr/local/lib/python3.10/dist-packages (from matplotlib->wordcloud) (2.8.2)\n",
            "Requirement already satisfied: pyparsing>=2.3.1 in /usr/local/lib/python3.10/dist-packages (from matplotlib->wordcloud) (3.0.9)\n",
            "Requirement already satisfied: contourpy>=1.0.1 in /usr/local/lib/python3.10/dist-packages (from matplotlib->wordcloud) (1.0.7)\n",
            "Requirement already satisfied: fonttools>=4.22.0 in /usr/local/lib/python3.10/dist-packages (from matplotlib->wordcloud) (4.39.3)\n",
            "Requirement already satisfied: kiwisolver>=1.0.1 in /usr/local/lib/python3.10/dist-packages (from matplotlib->wordcloud) (1.4.4)\n",
            "Requirement already satisfied: cycler>=0.10 in /usr/local/lib/python3.10/dist-packages (from matplotlib->wordcloud) (0.11.0)\n",
            "Requirement already satisfied: packaging>=20.0 in /usr/local/lib/python3.10/dist-packages (from matplotlib->wordcloud) (23.1)\n",
            "Requirement already satisfied: six>=1.5 in /usr/local/lib/python3.10/dist-packages (from python-dateutil>=2.7->matplotlib->wordcloud) (1.16.0)\n"
          ]
        }
      ],
      "source": [
        "import os\n",
        "import pandas as pd\n",
        "import numpy as np\n",
        "from tabulate import tabulate\n",
        "import collections\n",
        "from sklearn.feature_extraction.text import CountVectorizer\n",
        "from string import punctuation\n",
        "import nltk\n",
        "nltk.download('wordnet')\n",
        "nltk.download('punkt')\n",
        "nltk.download('omw-1.4')\n",
        "from nltk.corpus import stopwords\n",
        "nltk.download('stopwords')\n",
        "from nltk.stem.porter import PorterStemmer\n",
        "from nltk.stem import WordNetLemmatizer\n",
        "from nltk.tokenize import word_tokenize\n",
        "from nltk.corpus import stopwords\n",
        "from nltk.util import ngrams\n",
        "from nltk.tokenize import sent_tokenize\n",
        "from sklearn.feature_extraction.text import TfidfVectorizer\n",
        "en_stopwords = stopwords.words('english')\n",
        "from textblob import TextBlob\n",
        "from sklearn.model_selection import train_test_split\n",
        "from sklearn.linear_model import LogisticRegression\n",
        "from sklearn.naive_bayes import MultinomialNB\n",
        "from sklearn.metrics import confusion_matrix, accuracy_score, classification_report\n",
        "from sklearn.metrics import confusion_matrix\n",
        "import matplotlib.pyplot as plt\n",
        "import seaborn as sns\n",
        "\n",
        "import re\n",
        "from sklearn.preprocessing import LabelEncoder\n",
        "\n",
        "import tensorflow as tf\n",
        "from tensorflow.keras.preprocessing.text import Tokenizer\n",
        "from tensorflow.keras.preprocessing.sequence import pad_sequences\n",
        "from tensorflow.keras.optimizers import Adam\n",
        "! pip install wordcloud\n",
        "from wordcloud import WordCloud\n",
        "sns.set_palette('Set2')"
      ]
    },
    {
      "cell_type": "markdown",
      "source": [
        "**Loading the data**"
      ],
      "metadata": {
        "id": "jbgBX2HB7-gj"
      }
    },
    {
      "cell_type": "code",
      "source": [
        "from google.colab import drive\n",
        "drive.mount('/content/drive')"
      ],
      "metadata": {
        "colab": {
          "base_uri": "https://localhost:8080/"
        },
        "id": "HGHOUg_Z8dv3",
        "outputId": "e62049a1-eb3f-4fc0-d792-1a93280e243a"
      },
      "execution_count": null,
      "outputs": [
        {
          "output_type": "stream",
          "name": "stdout",
          "text": [
            "Mounted at /content/drive\n"
          ]
        }
      ]
    },
    {
      "cell_type": "code",
      "source": [
        "path = '/content/drive/MyDrive/NLP-project/Dataset/Symptom2Disease.csv'"
      ],
      "metadata": {
        "id": "v0mtFMM08iq1"
      },
      "execution_count": null,
      "outputs": []
    },
    {
      "cell_type": "code",
      "source": [
        "data = pd.read_csv(path)\n",
        "data.shape"
      ],
      "metadata": {
        "colab": {
          "base_uri": "https://localhost:8080/"
        },
        "id": "B3Kdk8Ha8n82",
        "outputId": "d11e6a14-3613-4cbd-9ad9-1ea53134df39"
      },
      "execution_count": null,
      "outputs": [
        {
          "output_type": "execute_result",
          "data": {
            "text/plain": [
              "(1200, 3)"
            ]
          },
          "metadata": {},
          "execution_count": 4
        }
      ]
    },
    {
      "cell_type": "code",
      "source": [
        "data.head(3)"
      ],
      "metadata": {
        "colab": {
          "base_uri": "https://localhost:8080/",
          "height": 143
        },
        "id": "UrTSevTN8o-z",
        "outputId": "aac3834f-57ec-48d4-b33b-d2500beacbc0"
      },
      "execution_count": null,
      "outputs": [
        {
          "output_type": "execute_result",
          "data": {
            "text/plain": [
              "   Unnamed: 0      label                                               text\n",
              "0           0  Psoriasis  I have been experiencing a skin rash on my arm...\n",
              "1           1  Psoriasis  My skin has been peeling, especially on my kne...\n",
              "2           2  Psoriasis  I have been experiencing joint pain in my fing..."
            ],
            "text/html": [
              "\n",
              "  <div id=\"df-d107a1a4-ca13-4d7f-960f-d728f567fcd5\">\n",
              "    <div class=\"colab-df-container\">\n",
              "      <div>\n",
              "<style scoped>\n",
              "    .dataframe tbody tr th:only-of-type {\n",
              "        vertical-align: middle;\n",
              "    }\n",
              "\n",
              "    .dataframe tbody tr th {\n",
              "        vertical-align: top;\n",
              "    }\n",
              "\n",
              "    .dataframe thead th {\n",
              "        text-align: right;\n",
              "    }\n",
              "</style>\n",
              "<table border=\"1\" class=\"dataframe\">\n",
              "  <thead>\n",
              "    <tr style=\"text-align: right;\">\n",
              "      <th></th>\n",
              "      <th>Unnamed: 0</th>\n",
              "      <th>label</th>\n",
              "      <th>text</th>\n",
              "    </tr>\n",
              "  </thead>\n",
              "  <tbody>\n",
              "    <tr>\n",
              "      <th>0</th>\n",
              "      <td>0</td>\n",
              "      <td>Psoriasis</td>\n",
              "      <td>I have been experiencing a skin rash on my arm...</td>\n",
              "    </tr>\n",
              "    <tr>\n",
              "      <th>1</th>\n",
              "      <td>1</td>\n",
              "      <td>Psoriasis</td>\n",
              "      <td>My skin has been peeling, especially on my kne...</td>\n",
              "    </tr>\n",
              "    <tr>\n",
              "      <th>2</th>\n",
              "      <td>2</td>\n",
              "      <td>Psoriasis</td>\n",
              "      <td>I have been experiencing joint pain in my fing...</td>\n",
              "    </tr>\n",
              "  </tbody>\n",
              "</table>\n",
              "</div>\n",
              "      <button class=\"colab-df-convert\" onclick=\"convertToInteractive('df-d107a1a4-ca13-4d7f-960f-d728f567fcd5')\"\n",
              "              title=\"Convert this dataframe to an interactive table.\"\n",
              "              style=\"display:none;\">\n",
              "        \n",
              "  <svg xmlns=\"http://www.w3.org/2000/svg\" height=\"24px\"viewBox=\"0 0 24 24\"\n",
              "       width=\"24px\">\n",
              "    <path d=\"M0 0h24v24H0V0z\" fill=\"none\"/>\n",
              "    <path d=\"M18.56 5.44l.94 2.06.94-2.06 2.06-.94-2.06-.94-.94-2.06-.94 2.06-2.06.94zm-11 1L8.5 8.5l.94-2.06 2.06-.94-2.06-.94L8.5 2.5l-.94 2.06-2.06.94zm10 10l.94 2.06.94-2.06 2.06-.94-2.06-.94-.94-2.06-.94 2.06-2.06.94z\"/><path d=\"M17.41 7.96l-1.37-1.37c-.4-.4-.92-.59-1.43-.59-.52 0-1.04.2-1.43.59L10.3 9.45l-7.72 7.72c-.78.78-.78 2.05 0 2.83L4 21.41c.39.39.9.59 1.41.59.51 0 1.02-.2 1.41-.59l7.78-7.78 2.81-2.81c.8-.78.8-2.07 0-2.86zM5.41 20L4 18.59l7.72-7.72 1.47 1.35L5.41 20z\"/>\n",
              "  </svg>\n",
              "      </button>\n",
              "      \n",
              "  <style>\n",
              "    .colab-df-container {\n",
              "      display:flex;\n",
              "      flex-wrap:wrap;\n",
              "      gap: 12px;\n",
              "    }\n",
              "\n",
              "    .colab-df-convert {\n",
              "      background-color: #E8F0FE;\n",
              "      border: none;\n",
              "      border-radius: 50%;\n",
              "      cursor: pointer;\n",
              "      display: none;\n",
              "      fill: #1967D2;\n",
              "      height: 32px;\n",
              "      padding: 0 0 0 0;\n",
              "      width: 32px;\n",
              "    }\n",
              "\n",
              "    .colab-df-convert:hover {\n",
              "      background-color: #E2EBFA;\n",
              "      box-shadow: 0px 1px 2px rgba(60, 64, 67, 0.3), 0px 1px 3px 1px rgba(60, 64, 67, 0.15);\n",
              "      fill: #174EA6;\n",
              "    }\n",
              "\n",
              "    [theme=dark] .colab-df-convert {\n",
              "      background-color: #3B4455;\n",
              "      fill: #D2E3FC;\n",
              "    }\n",
              "\n",
              "    [theme=dark] .colab-df-convert:hover {\n",
              "      background-color: #434B5C;\n",
              "      box-shadow: 0px 1px 3px 1px rgba(0, 0, 0, 0.15);\n",
              "      filter: drop-shadow(0px 1px 2px rgba(0, 0, 0, 0.3));\n",
              "      fill: #FFFFFF;\n",
              "    }\n",
              "  </style>\n",
              "\n",
              "      <script>\n",
              "        const buttonEl =\n",
              "          document.querySelector('#df-d107a1a4-ca13-4d7f-960f-d728f567fcd5 button.colab-df-convert');\n",
              "        buttonEl.style.display =\n",
              "          google.colab.kernel.accessAllowed ? 'block' : 'none';\n",
              "\n",
              "        async function convertToInteractive(key) {\n",
              "          const element = document.querySelector('#df-d107a1a4-ca13-4d7f-960f-d728f567fcd5');\n",
              "          const dataTable =\n",
              "            await google.colab.kernel.invokeFunction('convertToInteractive',\n",
              "                                                     [key], {});\n",
              "          if (!dataTable) return;\n",
              "\n",
              "          const docLinkHtml = 'Like what you see? Visit the ' +\n",
              "            '<a target=\"_blank\" href=https://colab.research.google.com/notebooks/data_table.ipynb>data table notebook</a>'\n",
              "            + ' to learn more about interactive tables.';\n",
              "          element.innerHTML = '';\n",
              "          dataTable['output_type'] = 'display_data';\n",
              "          await google.colab.output.renderOutput(dataTable, element);\n",
              "          const docLink = document.createElement('div');\n",
              "          docLink.innerHTML = docLinkHtml;\n",
              "          element.appendChild(docLink);\n",
              "        }\n",
              "      </script>\n",
              "    </div>\n",
              "  </div>\n",
              "  "
            ]
          },
          "metadata": {},
          "execution_count": 6
        }
      ]
    },
    {
      "cell_type": "code",
      "source": [
        "data['label'].value_counts()"
      ],
      "metadata": {
        "id": "bx0lGnNy8u2z",
        "outputId": "ea793b88-eb25-44d0-e93b-49475aef5517",
        "colab": {
          "base_uri": "https://localhost:8080/"
        }
      },
      "execution_count": null,
      "outputs": [
        {
          "output_type": "execute_result",
          "data": {
            "text/plain": [
              "Psoriasis                          50\n",
              "Varicose Veins                     50\n",
              "peptic ulcer disease               50\n",
              "drug reaction                      50\n",
              "gastroesophageal reflux disease    50\n",
              "allergy                            50\n",
              "urinary tract infection            50\n",
              "Malaria                            50\n",
              "Jaundice                           50\n",
              "Cervical spondylosis               50\n",
              "Migraine                           50\n",
              "Hypertension                       50\n",
              "Bronchial Asthma                   50\n",
              "Acne                               50\n",
              "Arthritis                          50\n",
              "Dimorphic Hemorrhoids              50\n",
              "Pneumonia                          50\n",
              "Common Cold                        50\n",
              "Fungal infection                   50\n",
              "Dengue                             50\n",
              "Impetigo                           50\n",
              "Chicken pox                        50\n",
              "Typhoid                            50\n",
              "diabetes                           50\n",
              "Name: label, dtype: int64"
            ]
          },
          "metadata": {},
          "execution_count": 7
        }
      ]
    },
    {
      "cell_type": "code",
      "source": [
        "len(data['label'].value_counts())"
      ],
      "metadata": {
        "id": "Xa7KuGr08y0d",
        "outputId": "3f4d53f7-5a03-4904-ad88-23460c46f932",
        "colab": {
          "base_uri": "https://localhost:8080/"
        }
      },
      "execution_count": null,
      "outputs": [
        {
          "output_type": "execute_result",
          "data": {
            "text/plain": [
              "24"
            ]
          },
          "metadata": {},
          "execution_count": 8
        }
      ]
    },
    {
      "cell_type": "markdown",
      "source": [
        "**Preprocessing the data**"
      ],
      "metadata": {
        "id": "aS-0B0Wf7xSP"
      }
    },
    {
      "cell_type": "code",
      "source": [
        "# Les fonctions pour le prétraitement\n",
        "def supp_ponc(text):\n",
        "    txt= []\n",
        "    for word in text:\n",
        "        if word not in punctuation:\n",
        "            txt.append(word)\n",
        "    return txt\n",
        "def larger_tokens(text):\n",
        "    result=[]\n",
        "    for word in text:\n",
        "        if(len(word)>3):\n",
        "            result.append(word)\n",
        "    return result\n",
        "def remove_stopwords(text):\n",
        "    result = []\n",
        "    for token in text:\n",
        "        if token not in en_stopwords:\n",
        "            result.append(token)           \n",
        "    return result\n",
        "\n",
        "def stemming(text):\n",
        "    porter = PorterStemmer()\n",
        "    \n",
        "    result=[]\n",
        "    for word in text:\n",
        "        result.append(porter.stem(word))\n",
        "    return result\n",
        "\n",
        "def lemmatizing(text):\n",
        "    lemmatizer = WordNetLemmatizer()\n",
        "    \n",
        "    result=[]\n",
        "    for word in text:\n",
        "        result.append(lemmatizer.lemmatize(word))\n",
        "    return result\n",
        "\n",
        "\n",
        "\n",
        "def clean(Dt):\n",
        "    res =[]\n",
        "    for text in Dt:\n",
        "        res.append(' '.join(text))\n",
        "    return res"
      ],
      "metadata": {
        "id": "-FAgjUDe4-g6"
      },
      "execution_count": null,
      "outputs": []
    },
    {
      "cell_type": "code",
      "source": [
        "liste_tok=[]\n",
        "for msg in data['text']:\n",
        "    liste_tok.append(supp_ponc(word_tokenize(msg)))\n",
        "\n",
        "\n",
        "tokens_large_liste = []\n",
        "for i in range (len(liste_tok)):\n",
        "    tokens_large_liste.append(larger_tokens(liste_tok[i]))\n",
        "\n",
        "\n",
        "sans_ponc_liste = []\n",
        "for i in range (len(liste_tok)):\n",
        "    tokens_large_liste.append(supp_ponc(liste_tok[i]))\n",
        "\n",
        "list_sansStopWords = []\n",
        "for i in range (len(liste_tok)):\n",
        "    list_sansStopWords.append(remove_stopwords(tokens_large_liste[i]))\n",
        "\n",
        "stem_list = []\n",
        "for i in range (len(list_sansStopWords)):\n",
        "    stem_list.append(stemming(list_sansStopWords[i]))\n",
        "\n",
        "lemm_list = []\n",
        "for i in range (len(list_sansStopWords)):\n",
        "    lemm_list.append(lemmatizing(list_sansStopWords[i]))\n",
        "\n"
      ],
      "metadata": {
        "id": "dZqcPH-EaBjL"
      },
      "execution_count": null,
      "outputs": []
    },
    {
      "cell_type": "code",
      "source": [
        "# Ajout d'une colonne \"tokens\"\n",
        "data.insert(loc=3, column=\"removed_punc\", value=liste_tok)\n",
        "data.insert(loc=4, column=\"tokens\", value=liste_tok)\n",
        "data.insert(loc=5, column=\"larger_tokens\", value=liste_tok)\n",
        "data.insert(loc=6, column=\"clean_tokens\", value=list_sansStopWords)\n",
        "data.insert(loc=7, column=\"stem_words\", value=stem_list)\n",
        "data.insert(loc=8, column=\"lemm_words\", value=lemm_list)\n",
        "clean_text = clean(data['stem_words'])\n",
        "data.insert(loc=9, column=\"clean_text\", value=clean_text)\n",
        "data.head()"
      ],
      "metadata": {
        "id": "D88XzjVqaDOn",
        "colab": {
          "base_uri": "https://localhost:8080/",
          "height": 510
        },
        "outputId": "4acb12b1-b3d3-4505-bd31-d3e92ba7530f"
      },
      "execution_count": null,
      "outputs": [
        {
          "output_type": "execute_result",
          "data": {
            "text/plain": [
              "   Unnamed: 0      label                                               text  \\\n",
              "0           0  Psoriasis  I have been experiencing a skin rash on my arm...   \n",
              "1           1  Psoriasis  My skin has been peeling, especially on my kne...   \n",
              "2           2  Psoriasis  I have been experiencing joint pain in my fing...   \n",
              "3           3  Psoriasis  There is a silver like dusting on my skin, esp...   \n",
              "4           4  Psoriasis  My nails have small dents or pits in them, and...   \n",
              "\n",
              "                                        removed_punc  \\\n",
              "0  [I, have, been, experiencing, a, skin, rash, o...   \n",
              "1  [My, skin, has, been, peeling, especially, on,...   \n",
              "2  [I, have, been, experiencing, joint, pain, in,...   \n",
              "3  [There, is, a, silver, like, dusting, on, my, ...   \n",
              "4  [My, nails, have, small, dents, or, pits, in, ...   \n",
              "\n",
              "                                              tokens  \\\n",
              "0  [I, have, been, experiencing, a, skin, rash, o...   \n",
              "1  [My, skin, has, been, peeling, especially, on,...   \n",
              "2  [I, have, been, experiencing, joint, pain, in,...   \n",
              "3  [There, is, a, silver, like, dusting, on, my, ...   \n",
              "4  [My, nails, have, small, dents, or, pits, in, ...   \n",
              "\n",
              "                                       larger_tokens  \\\n",
              "0  [I, have, been, experiencing, a, skin, rash, o...   \n",
              "1  [My, skin, has, been, peeling, especially, on,...   \n",
              "2  [I, have, been, experiencing, joint, pain, in,...   \n",
              "3  [There, is, a, silver, like, dusting, on, my, ...   \n",
              "4  [My, nails, have, small, dents, or, pits, in, ...   \n",
              "\n",
              "                                        clean_tokens  \\\n",
              "0  [experiencing, skin, rash, arms, legs, torso, ...   \n",
              "1  [skin, peeling, especially, knees, elbows, sca...   \n",
              "2  [experiencing, joint, pain, fingers, wrists, k...   \n",
              "3  [There, silver, like, dusting, skin, especiall...   \n",
              "4  [nails, small, dents, pits, often, feel, infla...   \n",
              "\n",
              "                                          stem_words  \\\n",
              "0  [experienc, skin, rash, arm, leg, torso, past,...   \n",
              "1  [skin, peel, especi, knee, elbow, scalp, thi, ...   \n",
              "2  [experienc, joint, pain, finger, wrist, knee, ...   \n",
              "3  [there, silver, like, dust, skin, especi, lowe...   \n",
              "4  [nail, small, dent, pit, often, feel, inflamma...   \n",
              "\n",
              "                                          lemm_words  \\\n",
              "0  [experiencing, skin, rash, arm, leg, torso, pa...   \n",
              "1  [skin, peeling, especially, knee, elbow, scalp...   \n",
              "2  [experiencing, joint, pain, finger, wrist, kne...   \n",
              "3  [There, silver, like, dusting, skin, especiall...   \n",
              "4  [nail, small, dent, pit, often, feel, inflamma...   \n",
              "\n",
              "                                          clean_text  \n",
              "0  experienc skin rash arm leg torso past week it...  \n",
              "1  skin peel especi knee elbow scalp thi peel oft...  \n",
              "2  experienc joint pain finger wrist knee pain of...  \n",
              "3  there silver like dust skin especi lower back ...  \n",
              "4  nail small dent pit often feel inflammatori te...  "
            ],
            "text/html": [
              "\n",
              "  <div id=\"df-7c30dbed-5dcc-4434-b8d2-d03273b46244\">\n",
              "    <div class=\"colab-df-container\">\n",
              "      <div>\n",
              "<style scoped>\n",
              "    .dataframe tbody tr th:only-of-type {\n",
              "        vertical-align: middle;\n",
              "    }\n",
              "\n",
              "    .dataframe tbody tr th {\n",
              "        vertical-align: top;\n",
              "    }\n",
              "\n",
              "    .dataframe thead th {\n",
              "        text-align: right;\n",
              "    }\n",
              "</style>\n",
              "<table border=\"1\" class=\"dataframe\">\n",
              "  <thead>\n",
              "    <tr style=\"text-align: right;\">\n",
              "      <th></th>\n",
              "      <th>Unnamed: 0</th>\n",
              "      <th>label</th>\n",
              "      <th>text</th>\n",
              "      <th>removed_punc</th>\n",
              "      <th>tokens</th>\n",
              "      <th>larger_tokens</th>\n",
              "      <th>clean_tokens</th>\n",
              "      <th>stem_words</th>\n",
              "      <th>lemm_words</th>\n",
              "      <th>clean_text</th>\n",
              "    </tr>\n",
              "  </thead>\n",
              "  <tbody>\n",
              "    <tr>\n",
              "      <th>0</th>\n",
              "      <td>0</td>\n",
              "      <td>Psoriasis</td>\n",
              "      <td>I have been experiencing a skin rash on my arm...</td>\n",
              "      <td>[I, have, been, experiencing, a, skin, rash, o...</td>\n",
              "      <td>[I, have, been, experiencing, a, skin, rash, o...</td>\n",
              "      <td>[I, have, been, experiencing, a, skin, rash, o...</td>\n",
              "      <td>[experiencing, skin, rash, arms, legs, torso, ...</td>\n",
              "      <td>[experienc, skin, rash, arm, leg, torso, past,...</td>\n",
              "      <td>[experiencing, skin, rash, arm, leg, torso, pa...</td>\n",
              "      <td>experienc skin rash arm leg torso past week it...</td>\n",
              "    </tr>\n",
              "    <tr>\n",
              "      <th>1</th>\n",
              "      <td>1</td>\n",
              "      <td>Psoriasis</td>\n",
              "      <td>My skin has been peeling, especially on my kne...</td>\n",
              "      <td>[My, skin, has, been, peeling, especially, on,...</td>\n",
              "      <td>[My, skin, has, been, peeling, especially, on,...</td>\n",
              "      <td>[My, skin, has, been, peeling, especially, on,...</td>\n",
              "      <td>[skin, peeling, especially, knees, elbows, sca...</td>\n",
              "      <td>[skin, peel, especi, knee, elbow, scalp, thi, ...</td>\n",
              "      <td>[skin, peeling, especially, knee, elbow, scalp...</td>\n",
              "      <td>skin peel especi knee elbow scalp thi peel oft...</td>\n",
              "    </tr>\n",
              "    <tr>\n",
              "      <th>2</th>\n",
              "      <td>2</td>\n",
              "      <td>Psoriasis</td>\n",
              "      <td>I have been experiencing joint pain in my fing...</td>\n",
              "      <td>[I, have, been, experiencing, joint, pain, in,...</td>\n",
              "      <td>[I, have, been, experiencing, joint, pain, in,...</td>\n",
              "      <td>[I, have, been, experiencing, joint, pain, in,...</td>\n",
              "      <td>[experiencing, joint, pain, fingers, wrists, k...</td>\n",
              "      <td>[experienc, joint, pain, finger, wrist, knee, ...</td>\n",
              "      <td>[experiencing, joint, pain, finger, wrist, kne...</td>\n",
              "      <td>experienc joint pain finger wrist knee pain of...</td>\n",
              "    </tr>\n",
              "    <tr>\n",
              "      <th>3</th>\n",
              "      <td>3</td>\n",
              "      <td>Psoriasis</td>\n",
              "      <td>There is a silver like dusting on my skin, esp...</td>\n",
              "      <td>[There, is, a, silver, like, dusting, on, my, ...</td>\n",
              "      <td>[There, is, a, silver, like, dusting, on, my, ...</td>\n",
              "      <td>[There, is, a, silver, like, dusting, on, my, ...</td>\n",
              "      <td>[There, silver, like, dusting, skin, especiall...</td>\n",
              "      <td>[there, silver, like, dust, skin, especi, lowe...</td>\n",
              "      <td>[There, silver, like, dusting, skin, especiall...</td>\n",
              "      <td>there silver like dust skin especi lower back ...</td>\n",
              "    </tr>\n",
              "    <tr>\n",
              "      <th>4</th>\n",
              "      <td>4</td>\n",
              "      <td>Psoriasis</td>\n",
              "      <td>My nails have small dents or pits in them, and...</td>\n",
              "      <td>[My, nails, have, small, dents, or, pits, in, ...</td>\n",
              "      <td>[My, nails, have, small, dents, or, pits, in, ...</td>\n",
              "      <td>[My, nails, have, small, dents, or, pits, in, ...</td>\n",
              "      <td>[nails, small, dents, pits, often, feel, infla...</td>\n",
              "      <td>[nail, small, dent, pit, often, feel, inflamma...</td>\n",
              "      <td>[nail, small, dent, pit, often, feel, inflamma...</td>\n",
              "      <td>nail small dent pit often feel inflammatori te...</td>\n",
              "    </tr>\n",
              "  </tbody>\n",
              "</table>\n",
              "</div>\n",
              "      <button class=\"colab-df-convert\" onclick=\"convertToInteractive('df-7c30dbed-5dcc-4434-b8d2-d03273b46244')\"\n",
              "              title=\"Convert this dataframe to an interactive table.\"\n",
              "              style=\"display:none;\">\n",
              "        \n",
              "  <svg xmlns=\"http://www.w3.org/2000/svg\" height=\"24px\"viewBox=\"0 0 24 24\"\n",
              "       width=\"24px\">\n",
              "    <path d=\"M0 0h24v24H0V0z\" fill=\"none\"/>\n",
              "    <path d=\"M18.56 5.44l.94 2.06.94-2.06 2.06-.94-2.06-.94-.94-2.06-.94 2.06-2.06.94zm-11 1L8.5 8.5l.94-2.06 2.06-.94-2.06-.94L8.5 2.5l-.94 2.06-2.06.94zm10 10l.94 2.06.94-2.06 2.06-.94-2.06-.94-.94-2.06-.94 2.06-2.06.94z\"/><path d=\"M17.41 7.96l-1.37-1.37c-.4-.4-.92-.59-1.43-.59-.52 0-1.04.2-1.43.59L10.3 9.45l-7.72 7.72c-.78.78-.78 2.05 0 2.83L4 21.41c.39.39.9.59 1.41.59.51 0 1.02-.2 1.41-.59l7.78-7.78 2.81-2.81c.8-.78.8-2.07 0-2.86zM5.41 20L4 18.59l7.72-7.72 1.47 1.35L5.41 20z\"/>\n",
              "  </svg>\n",
              "      </button>\n",
              "      \n",
              "  <style>\n",
              "    .colab-df-container {\n",
              "      display:flex;\n",
              "      flex-wrap:wrap;\n",
              "      gap: 12px;\n",
              "    }\n",
              "\n",
              "    .colab-df-convert {\n",
              "      background-color: #E8F0FE;\n",
              "      border: none;\n",
              "      border-radius: 50%;\n",
              "      cursor: pointer;\n",
              "      display: none;\n",
              "      fill: #1967D2;\n",
              "      height: 32px;\n",
              "      padding: 0 0 0 0;\n",
              "      width: 32px;\n",
              "    }\n",
              "\n",
              "    .colab-df-convert:hover {\n",
              "      background-color: #E2EBFA;\n",
              "      box-shadow: 0px 1px 2px rgba(60, 64, 67, 0.3), 0px 1px 3px 1px rgba(60, 64, 67, 0.15);\n",
              "      fill: #174EA6;\n",
              "    }\n",
              "\n",
              "    [theme=dark] .colab-df-convert {\n",
              "      background-color: #3B4455;\n",
              "      fill: #D2E3FC;\n",
              "    }\n",
              "\n",
              "    [theme=dark] .colab-df-convert:hover {\n",
              "      background-color: #434B5C;\n",
              "      box-shadow: 0px 1px 3px 1px rgba(0, 0, 0, 0.15);\n",
              "      filter: drop-shadow(0px 1px 2px rgba(0, 0, 0, 0.3));\n",
              "      fill: #FFFFFF;\n",
              "    }\n",
              "  </style>\n",
              "\n",
              "      <script>\n",
              "        const buttonEl =\n",
              "          document.querySelector('#df-7c30dbed-5dcc-4434-b8d2-d03273b46244 button.colab-df-convert');\n",
              "        buttonEl.style.display =\n",
              "          google.colab.kernel.accessAllowed ? 'block' : 'none';\n",
              "\n",
              "        async function convertToInteractive(key) {\n",
              "          const element = document.querySelector('#df-7c30dbed-5dcc-4434-b8d2-d03273b46244');\n",
              "          const dataTable =\n",
              "            await google.colab.kernel.invokeFunction('convertToInteractive',\n",
              "                                                     [key], {});\n",
              "          if (!dataTable) return;\n",
              "\n",
              "          const docLinkHtml = 'Like what you see? Visit the ' +\n",
              "            '<a target=\"_blank\" href=https://colab.research.google.com/notebooks/data_table.ipynb>data table notebook</a>'\n",
              "            + ' to learn more about interactive tables.';\n",
              "          element.innerHTML = '';\n",
              "          dataTable['output_type'] = 'display_data';\n",
              "          await google.colab.output.renderOutput(dataTable, element);\n",
              "          const docLink = document.createElement('div');\n",
              "          docLink.innerHTML = docLinkHtml;\n",
              "          element.appendChild(docLink);\n",
              "        }\n",
              "      </script>\n",
              "    </div>\n",
              "  </div>\n",
              "  "
            ]
          },
          "metadata": {},
          "execution_count": 11
        }
      ]
    },
    {
      "cell_type": "markdown",
      "metadata": {
        "id": "7Bweocn83u0u"
      },
      "source": [
        "**Vectorization**"
      ]
    },
    {
      "cell_type": "code",
      "execution_count": null,
      "metadata": {
        "id": "JZPtFLfKNBCu"
      },
      "outputs": [],
      "source": [
        "from sklearn.feature_extraction.text import TfidfVectorizer\n",
        "vectorizer = TfidfVectorizer()\n",
        "X = vectorizer.fit_transform(data['clean_text']).toarray()"
      ]
    },
    {
      "cell_type": "code",
      "execution_count": null,
      "metadata": {
        "id": "PwWJ6ZRm9uIO"
      },
      "outputs": [],
      "source": [
        "Y = pd.get_dummies(data[\"label\"]).to_numpy()"
      ]
    },
    {
      "cell_type": "markdown",
      "metadata": {
        "id": "SAJqgOL7tn4m"
      },
      "source": [
        "**Spliting data into training and testing sets**"
      ]
    },
    {
      "cell_type": "code",
      "source": [
        "from sklearn.model_selection import train_test_split\n",
        "\n",
        "# Split the data into training and testing sets\n",
        "X_train, X_test, y_train, y_test = train_test_split(X, Y, test_size=0.1, random_state=42)"
      ],
      "metadata": {
        "id": "Wohen72UC2Ms"
      },
      "execution_count": null,
      "outputs": []
    },
    {
      "cell_type": "code",
      "execution_count": null,
      "metadata": {
        "colab": {
          "base_uri": "https://localhost:8080/"
        },
        "id": "b7DhAhXKjmzW",
        "outputId": "7acb2840-095d-4318-c19d-d7bc8615feb3"
      },
      "outputs": [
        {
          "output_type": "stream",
          "name": "stdout",
          "text": [
            "Epoch 1/100\n"
          ]
        },
        {
          "output_type": "stream",
          "name": "stderr",
          "text": [
            "/usr/local/lib/python3.10/dist-packages/keras/optimizers/legacy/gradient_descent.py:114: UserWarning: The `lr` argument is deprecated, use `learning_rate` instead.\n",
            "  super().__init__(name, **kwargs)\n"
          ]
        },
        {
          "output_type": "stream",
          "name": "stdout",
          "text": [
            "135/135 [==============================] - 1s 2ms/step - loss: 3.1728 - accuracy: 0.0574\n",
            "Epoch 2/100\n",
            "135/135 [==============================] - 0s 2ms/step - loss: 3.1189 - accuracy: 0.0935\n",
            "Epoch 3/100\n",
            "135/135 [==============================] - 0s 2ms/step - loss: 2.9974 - accuracy: 0.1861\n",
            "Epoch 4/100\n",
            "135/135 [==============================] - 0s 2ms/step - loss: 2.7407 - accuracy: 0.2639\n",
            "Epoch 5/100\n",
            "135/135 [==============================] - 0s 2ms/step - loss: 2.3050 - accuracy: 0.3731\n",
            "Epoch 6/100\n",
            "135/135 [==============================] - 0s 2ms/step - loss: 1.8735 - accuracy: 0.4861\n",
            "Epoch 7/100\n",
            "135/135 [==============================] - 0s 2ms/step - loss: 1.5290 - accuracy: 0.5769\n",
            "Epoch 8/100\n",
            "135/135 [==============================] - 0s 1ms/step - loss: 1.2890 - accuracy: 0.6204\n",
            "Epoch 9/100\n",
            "135/135 [==============================] - 0s 2ms/step - loss: 1.0511 - accuracy: 0.6880\n",
            "Epoch 10/100\n",
            "135/135 [==============================] - 0s 2ms/step - loss: 0.9099 - accuracy: 0.7380\n",
            "Epoch 11/100\n",
            "135/135 [==============================] - 0s 2ms/step - loss: 0.7775 - accuracy: 0.7546\n",
            "Epoch 12/100\n",
            "135/135 [==============================] - 0s 2ms/step - loss: 0.6919 - accuracy: 0.7870\n",
            "Epoch 13/100\n",
            "135/135 [==============================] - 0s 2ms/step - loss: 0.5843 - accuracy: 0.8278\n",
            "Epoch 14/100\n",
            "135/135 [==============================] - 0s 2ms/step - loss: 0.5264 - accuracy: 0.8500\n",
            "Epoch 15/100\n",
            "135/135 [==============================] - 0s 1ms/step - loss: 0.4526 - accuracy: 0.8787\n",
            "Epoch 16/100\n",
            "135/135 [==============================] - 0s 2ms/step - loss: 0.4277 - accuracy: 0.8815\n",
            "Epoch 17/100\n",
            "135/135 [==============================] - 0s 1ms/step - loss: 0.3959 - accuracy: 0.8880\n",
            "Epoch 18/100\n",
            "135/135 [==============================] - 0s 2ms/step - loss: 0.3187 - accuracy: 0.9056\n",
            "Epoch 19/100\n",
            "135/135 [==============================] - 0s 2ms/step - loss: 0.3306 - accuracy: 0.9083\n",
            "Epoch 20/100\n",
            "135/135 [==============================] - 0s 2ms/step - loss: 0.2989 - accuracy: 0.9130\n",
            "Epoch 21/100\n",
            "135/135 [==============================] - 0s 2ms/step - loss: 0.2717 - accuracy: 0.9231\n",
            "Epoch 22/100\n",
            "135/135 [==============================] - 0s 2ms/step - loss: 0.2689 - accuracy: 0.9194\n",
            "Epoch 23/100\n",
            "135/135 [==============================] - 0s 2ms/step - loss: 0.2507 - accuracy: 0.9287\n",
            "Epoch 24/100\n",
            "135/135 [==============================] - 0s 1ms/step - loss: 0.2158 - accuracy: 0.9426\n",
            "Epoch 25/100\n",
            "135/135 [==============================] - 0s 2ms/step - loss: 0.2019 - accuracy: 0.9435\n",
            "Epoch 26/100\n",
            "135/135 [==============================] - 0s 2ms/step - loss: 0.2111 - accuracy: 0.9500\n",
            "Epoch 27/100\n",
            "135/135 [==============================] - 0s 2ms/step - loss: 0.1662 - accuracy: 0.9509\n",
            "Epoch 28/100\n",
            "135/135 [==============================] - 0s 2ms/step - loss: 0.1809 - accuracy: 0.9509\n",
            "Epoch 29/100\n",
            "135/135 [==============================] - 0s 2ms/step - loss: 0.1629 - accuracy: 0.9565\n",
            "Epoch 30/100\n",
            "135/135 [==============================] - 0s 2ms/step - loss: 0.1501 - accuracy: 0.9519\n",
            "Epoch 31/100\n",
            "135/135 [==============================] - 0s 2ms/step - loss: 0.1731 - accuracy: 0.9472\n",
            "Epoch 32/100\n",
            "135/135 [==============================] - 0s 2ms/step - loss: 0.1599 - accuracy: 0.9528\n",
            "Epoch 33/100\n",
            "135/135 [==============================] - 0s 1ms/step - loss: 0.1483 - accuracy: 0.9556\n",
            "Epoch 34/100\n",
            "135/135 [==============================] - 0s 1ms/step - loss: 0.1332 - accuracy: 0.9694\n",
            "Epoch 35/100\n",
            "135/135 [==============================] - 0s 2ms/step - loss: 0.1333 - accuracy: 0.9611\n",
            "Epoch 36/100\n",
            "135/135 [==============================] - 0s 2ms/step - loss: 0.1276 - accuracy: 0.9676\n",
            "Epoch 37/100\n",
            "135/135 [==============================] - 0s 2ms/step - loss: 0.1222 - accuracy: 0.9648\n",
            "Epoch 38/100\n",
            "135/135 [==============================] - 0s 1ms/step - loss: 0.1005 - accuracy: 0.9722\n",
            "Epoch 39/100\n",
            "135/135 [==============================] - 0s 2ms/step - loss: 0.1312 - accuracy: 0.9630\n",
            "Epoch 40/100\n",
            "135/135 [==============================] - 0s 2ms/step - loss: 0.1134 - accuracy: 0.9731\n",
            "Epoch 41/100\n",
            "135/135 [==============================] - 0s 2ms/step - loss: 0.1078 - accuracy: 0.9657\n",
            "Epoch 42/100\n",
            "135/135 [==============================] - 0s 2ms/step - loss: 0.1001 - accuracy: 0.9713\n",
            "Epoch 43/100\n",
            "135/135 [==============================] - 0s 2ms/step - loss: 0.1263 - accuracy: 0.9676\n",
            "Epoch 44/100\n",
            "135/135 [==============================] - 0s 1ms/step - loss: 0.1075 - accuracy: 0.9676\n",
            "Epoch 45/100\n",
            "135/135 [==============================] - 0s 1ms/step - loss: 0.1033 - accuracy: 0.9667\n",
            "Epoch 46/100\n",
            "135/135 [==============================] - 0s 2ms/step - loss: 0.0832 - accuracy: 0.9694\n",
            "Epoch 47/100\n",
            "135/135 [==============================] - 0s 2ms/step - loss: 0.0980 - accuracy: 0.9741\n",
            "Epoch 48/100\n",
            "135/135 [==============================] - 0s 2ms/step - loss: 0.0797 - accuracy: 0.9778\n",
            "Epoch 49/100\n",
            "135/135 [==============================] - 0s 2ms/step - loss: 0.0905 - accuracy: 0.9713\n",
            "Epoch 50/100\n",
            "135/135 [==============================] - 0s 2ms/step - loss: 0.0921 - accuracy: 0.9722\n",
            "Epoch 51/100\n",
            "135/135 [==============================] - 0s 2ms/step - loss: 0.0814 - accuracy: 0.9759\n",
            "Epoch 52/100\n",
            "135/135 [==============================] - 0s 2ms/step - loss: 0.0656 - accuracy: 0.9843\n",
            "Epoch 53/100\n",
            "135/135 [==============================] - 0s 2ms/step - loss: 0.0798 - accuracy: 0.9806\n",
            "Epoch 54/100\n",
            "135/135 [==============================] - 0s 2ms/step - loss: 0.0784 - accuracy: 0.9778\n",
            "Epoch 55/100\n",
            "135/135 [==============================] - 0s 2ms/step - loss: 0.0846 - accuracy: 0.9759\n",
            "Epoch 56/100\n",
            "135/135 [==============================] - 0s 2ms/step - loss: 0.0730 - accuracy: 0.9787\n",
            "Epoch 57/100\n",
            "135/135 [==============================] - 0s 2ms/step - loss: 0.0905 - accuracy: 0.9657\n",
            "Epoch 58/100\n",
            "135/135 [==============================] - 0s 2ms/step - loss: 0.0696 - accuracy: 0.9824\n",
            "Epoch 59/100\n",
            "135/135 [==============================] - 0s 2ms/step - loss: 0.0644 - accuracy: 0.9833\n",
            "Epoch 60/100\n",
            "135/135 [==============================] - 0s 2ms/step - loss: 0.0666 - accuracy: 0.9815\n",
            "Epoch 61/100\n",
            "135/135 [==============================] - 0s 1ms/step - loss: 0.0813 - accuracy: 0.9741\n",
            "Epoch 62/100\n",
            "135/135 [==============================] - 0s 1ms/step - loss: 0.0796 - accuracy: 0.9796\n",
            "Epoch 63/100\n",
            "135/135 [==============================] - 0s 1ms/step - loss: 0.0708 - accuracy: 0.9796\n",
            "Epoch 64/100\n",
            "135/135 [==============================] - 0s 2ms/step - loss: 0.0587 - accuracy: 0.9833\n",
            "Epoch 65/100\n",
            "135/135 [==============================] - 0s 2ms/step - loss: 0.0662 - accuracy: 0.9815\n",
            "Epoch 66/100\n",
            "135/135 [==============================] - 0s 2ms/step - loss: 0.0590 - accuracy: 0.9870\n",
            "Epoch 67/100\n",
            "135/135 [==============================] - 0s 1ms/step - loss: 0.0597 - accuracy: 0.9843\n",
            "Epoch 68/100\n",
            "135/135 [==============================] - 0s 2ms/step - loss: 0.0581 - accuracy: 0.9861\n",
            "Epoch 69/100\n",
            "135/135 [==============================] - 0s 2ms/step - loss: 0.0575 - accuracy: 0.9833\n",
            "Epoch 70/100\n",
            "135/135 [==============================] - 0s 2ms/step - loss: 0.0655 - accuracy: 0.9806\n",
            "Epoch 71/100\n",
            "135/135 [==============================] - 0s 2ms/step - loss: 0.0756 - accuracy: 0.9759\n",
            "Epoch 72/100\n",
            "135/135 [==============================] - 0s 1ms/step - loss: 0.0665 - accuracy: 0.9778\n",
            "Epoch 73/100\n",
            "135/135 [==============================] - 0s 2ms/step - loss: 0.0643 - accuracy: 0.9796\n",
            "Epoch 74/100\n",
            "135/135 [==============================] - 0s 2ms/step - loss: 0.0597 - accuracy: 0.9861\n",
            "Epoch 75/100\n",
            "135/135 [==============================] - 0s 1ms/step - loss: 0.0529 - accuracy: 0.9880\n",
            "Epoch 76/100\n",
            "135/135 [==============================] - 0s 1ms/step - loss: 0.0426 - accuracy: 0.9898\n",
            "Epoch 77/100\n",
            "135/135 [==============================] - 0s 1ms/step - loss: 0.0547 - accuracy: 0.9852\n",
            "Epoch 78/100\n",
            "135/135 [==============================] - 0s 2ms/step - loss: 0.0595 - accuracy: 0.9796\n",
            "Epoch 79/100\n",
            "135/135 [==============================] - 0s 1ms/step - loss: 0.0552 - accuracy: 0.9833\n",
            "Epoch 80/100\n",
            "135/135 [==============================] - 0s 2ms/step - loss: 0.0616 - accuracy: 0.9778\n",
            "Epoch 81/100\n",
            "135/135 [==============================] - 0s 1ms/step - loss: 0.0461 - accuracy: 0.9852\n",
            "Epoch 82/100\n",
            "135/135 [==============================] - 0s 2ms/step - loss: 0.0458 - accuracy: 0.9870\n",
            "Epoch 83/100\n",
            "135/135 [==============================] - 0s 2ms/step - loss: 0.0525 - accuracy: 0.9843\n",
            "Epoch 84/100\n",
            "135/135 [==============================] - 0s 2ms/step - loss: 0.0517 - accuracy: 0.9870\n",
            "Epoch 85/100\n",
            "135/135 [==============================] - 0s 2ms/step - loss: 0.0400 - accuracy: 0.9898\n",
            "Epoch 86/100\n",
            "135/135 [==============================] - 0s 1ms/step - loss: 0.0416 - accuracy: 0.9889\n",
            "Epoch 87/100\n",
            "135/135 [==============================] - 0s 2ms/step - loss: 0.0541 - accuracy: 0.9852\n",
            "Epoch 88/100\n",
            "135/135 [==============================] - 0s 2ms/step - loss: 0.0500 - accuracy: 0.9833\n",
            "Epoch 89/100\n",
            "135/135 [==============================] - 0s 2ms/step - loss: 0.0405 - accuracy: 0.9843\n",
            "Epoch 90/100\n",
            "135/135 [==============================] - 0s 2ms/step - loss: 0.0549 - accuracy: 0.9852\n",
            "Epoch 91/100\n",
            "135/135 [==============================] - 0s 2ms/step - loss: 0.0467 - accuracy: 0.9880\n",
            "Epoch 92/100\n",
            "135/135 [==============================] - 0s 2ms/step - loss: 0.0445 - accuracy: 0.9880\n",
            "Epoch 93/100\n",
            "135/135 [==============================] - 0s 2ms/step - loss: 0.0484 - accuracy: 0.9870\n",
            "Epoch 94/100\n",
            "135/135 [==============================] - 0s 2ms/step - loss: 0.0426 - accuracy: 0.9852\n",
            "Epoch 95/100\n",
            "135/135 [==============================] - 0s 1ms/step - loss: 0.0525 - accuracy: 0.9852\n",
            "Epoch 96/100\n",
            "135/135 [==============================] - 0s 2ms/step - loss: 0.0612 - accuracy: 0.9796\n",
            "Epoch 97/100\n",
            "135/135 [==============================] - 0s 2ms/step - loss: 0.0579 - accuracy: 0.9815\n",
            "Epoch 98/100\n",
            "135/135 [==============================] - 0s 2ms/step - loss: 0.0457 - accuracy: 0.9880\n",
            "Epoch 99/100\n",
            "135/135 [==============================] - 0s 2ms/step - loss: 0.0485 - accuracy: 0.9880\n",
            "Epoch 100/100\n",
            "135/135 [==============================] - 0s 2ms/step - loss: 0.0456 - accuracy: 0.9861\n"
          ]
        }
      ],
      "source": [
        "from keras.layers import Dense, Activation, Dropout\n",
        "import tensorflow as tf\n",
        "import numpy as np\n",
        "from tensorflow.keras import Sequential\n",
        "from tensorflow.keras.layers import Dense\n",
        "from tensorflow.keras.optimizers import Adam\n",
        "# Create model - 3 layers. First layer 128 neurons, second layer 64 neurons and 3rd output layer contains number of neurons\n",
        "# equal to number of intents to predict output intent with softmax\n",
        "model = Sequential()\n",
        "model.add(Dense(128, input_shape=(len(X_train[0]),), activation='relu'))\n",
        "model.add(Dropout(0.5))\n",
        "model.add(Dense(64, activation='relu'))\n",
        "model.add(Dropout(0.5))\n",
        "model.add(Dense(len(y_train[0]), activation='softmax'))\n",
        "\n",
        "# Compile model. Stochastic gradient descent with Nesterov accelerated gradient gives good results for this model\n",
        "sgd = tf.keras.optimizers.legacy.SGD(lr=0.01, decay=1e-6, momentum=0.9, nesterov=True)\n",
        "model.compile(\n",
        "    loss='categorical_crossentropy', \n",
        "    optimizer=sgd, \n",
        "    metrics=['accuracy'])\n",
        "\n",
        "#fitting the model\n",
        "history = model.fit(X_train, y_train, \n",
        "    epochs=100, \n",
        "    batch_size=8, \n",
        "    verbose=1)\n"
      ]
    },
    {
      "cell_type": "code",
      "source": [
        "loss_train, accuracy_train = model.evaluate(X_train, y_train, verbose=0)\n",
        "loss_test, accuracy_test = model.evaluate(X_test, y_test, verbose=0)"
      ],
      "metadata": {
        "id": "SYUgH-DBXnch"
      },
      "execution_count": null,
      "outputs": []
    },
    {
      "cell_type": "code",
      "source": [
        "print(\"Train accuracy:\",accuracy_train*100,\"%\")\n",
        "print(\"Test accuracy:\",round(accuracy_test*100,2),\"%\")"
      ],
      "metadata": {
        "colab": {
          "base_uri": "https://localhost:8080/"
        },
        "id": "MSJeCHIBN18x",
        "outputId": "f4bb2023-175b-4a80-ad5d-bed7bca0ced6"
      },
      "execution_count": null,
      "outputs": [
        {
          "output_type": "stream",
          "name": "stdout",
          "text": [
            "Train accuracy: 100.0 %\n",
            "Test accuracy: 98.33 %\n"
          ]
        }
      ]
    },
    {
      "cell_type": "code",
      "source": [
        "from sklearn.metrics import classification_report, confusion_matrix\n",
        "y_pred = model.predict(X_test)\n",
        "y_pred = np.argmax(y_pred, axis=1)\n",
        "y_true = np.argmax(y_test, axis=1)\n",
        "print(confusion_matrix(y_true, y_pred))\n",
        "print(classification_report(y_true, y_pred))\n"
      ],
      "metadata": {
        "id": "FOIoUtZR9kE5"
      },
      "execution_count": null,
      "outputs": []
    },
    {
      "cell_type": "markdown",
      "source": [
        "**Testing the model**"
      ],
      "metadata": {
        "id": "1JUyommS75D-"
      }
    },
    {
      "cell_type": "code",
      "source": [
        "# Define the test data\n",
        "txt = [\"My throat is scratchy and I have a persistent cough. I also have a fever and feel fatigued. My body aches and I have a loss of appetite. I have difficulty sleeping due to the discomfort and my breathing feels labored at times.\"]\n",
        "\n",
        "# Vextorize the test data\n",
        "test_features = vectorizer.transform(txt).toarray()\n",
        "\n",
        "# Use the trained model to predict labels for the test data\n",
        "predicted_labels = model.predict(test_features)\n",
        "\n",
        "# Print the predicted labels\n",
        "predicted_maladie = pd.get_dummies(data[\"label\"]).columns[np.argmax(predicted_labels)]\n",
        "print(predicted_maladie)"
      ],
      "metadata": {
        "colab": {
          "base_uri": "https://localhost:8080/"
        },
        "id": "d-e1_ZkY6u69",
        "outputId": "1794b8b6-45a7-4663-e697-74ad732db3cf"
      },
      "execution_count": null,
      "outputs": [
        {
          "output_type": "stream",
          "name": "stdout",
          "text": [
            "1/1 [==============================] - 0s 15ms/step\n",
            "Bronchial Asthma\n"
          ]
        }
      ]
    },
    {
      "cell_type": "code",
      "source": [
        "txt = [\"My skin is dry and itchy. I can see some rashes on my skin and my face turns red easily.\"]\n",
        "# Vextorize the test data\n",
        "test_features = vectorizer.transform(txt).toarray()\n",
        "\n",
        "# Use the trained model to predict labels for the test data\n",
        "predicted_labels = model.predict(test_features)\n",
        "\n",
        "# Print the predicted labels\n",
        "predicted_maladie = pd.get_dummies(data[\"label\"]).columns[np.argmax(predicted_labels)]\n",
        "print(predicted_maladie)"
      ],
      "metadata": {
        "colab": {
          "base_uri": "https://localhost:8080/"
        },
        "id": "CqeSu1qO_-K5",
        "outputId": "ec2a2ecf-8a31-43d4-cb90-5d6dcc4bee88"
      },
      "execution_count": null,
      "outputs": [
        {
          "output_type": "stream",
          "name": "stdout",
          "text": [
            "1/1 [==============================] - 0s 15ms/step\n",
            "Fungal infection\n"
          ]
        }
      ]
    },
    {
      "cell_type": "code",
      "source": [
        "model.save('model.h5')"
      ],
      "metadata": {
        "id": "F5fV6KkqaDbY"
      },
      "execution_count": null,
      "outputs": []
    }
  ]
}